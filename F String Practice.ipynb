{
 "cells": [
  {
   "cell_type": "code",
   "execution_count": 2,
   "metadata": {},
   "outputs": [
    {
     "name": "stdout",
     "output_type": "stream",
     "text": [
      "There are total of 36 apples\n"
     ]
    }
   ],
   "source": [
    "bags = 3\n",
    "apples_in_a_bag = 12\n",
    "\n",
    "print(f'There are total of {bags * apples_in_a_bag} apples')"
   ]
  },
  {
   "cell_type": "code",
   "execution_count": 6,
   "metadata": {},
   "outputs": [
    {
     "name": "stdout",
     "output_type": "stream",
     "text": [
      "Peter is 23 years old\n",
      "Peter is 23 years old\n",
      "Peter is 23 years old\n"
     ]
    }
   ],
   "source": [
    "name = 'Peter'\n",
    "age = 23\n",
    "\n",
    "print('%s is %d years old' % (name, age))\n",
    "print('{} is {} years old'.format(name, age))\n",
    "print(f'{name} is {age} years old')"
   ]
  },
  {
   "cell_type": "code",
   "execution_count": 7,
   "metadata": {},
   "outputs": [
    {
     "name": "stdout",
     "output_type": "stream",
     "text": [
      "Each person gets 3.0 apples\n"
     ]
    }
   ],
   "source": [
    "peoples = 10\n",
    "apples = 30\n",
    "\n",
    "Each_person_gets = apples/peoples\n",
    "print(f'Each person gets {apples/peoples} apples')"
   ]
  },
  {
   "cell_type": "code",
   "execution_count": null,
   "metadata": {},
   "outputs": [],
   "source": []
  }
 ],
 "metadata": {
  "kernelspec": {
   "display_name": "Python 3",
   "language": "python",
   "name": "python3"
  },
  "language_info": {
   "codemirror_mode": {
    "name": "ipython",
    "version": 3
   },
   "file_extension": ".py",
   "mimetype": "text/x-python",
   "name": "python",
   "nbconvert_exporter": "python",
   "pygments_lexer": "ipython3",
   "version": "3.8.3"
  }
 },
 "nbformat": 4,
 "nbformat_minor": 4
}
